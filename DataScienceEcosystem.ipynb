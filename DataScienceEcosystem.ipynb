{
 "cells": [
  {
   "cell_type": "markdown",
   "id": "7c02a9ba",
   "metadata": {},
   "source": [
    "# Data Science Tools and Ecosystem"
   ]
  },
  {
   "cell_type": "markdown",
   "id": "06fed983",
   "metadata": {},
   "source": [
    "# In this notebook, Data Science Tools and Ecosystem are summarized."
   ]
  },
  {
   "cell_type": "markdown",
   "id": "1a42df78",
   "metadata": {},
   "source": [
    "## Objectives:\n",
    "\n",
    "1. Popular languages for Data Science.\n",
    "2. The commonly used libraries for Data Science.\n",
    "3. Data Science Tools"
   ]
  },
  {
   "cell_type": "markdown",
   "id": "00c8ded0",
   "metadata": {},
   "source": [
    "# Some of the popular languages that Data Scientists use are:\n",
    "\n",
    "1. Python\n",
    "2. R\n",
    "3. SQL"
   ]
  },
  {
   "cell_type": "markdown",
   "id": "beae3c46",
   "metadata": {},
   "source": [
    "# Some of the commonly used libraries used by Data Scientists include:\n",
    "\n",
    "1. Pandas\n",
    "2. NumPy\n",
    "3. Matplotli"
   ]
  },
  {
   "cell_type": "markdown",
   "id": "b83e49f6",
   "metadata": {},
   "source": [
    "# Data Science Tools\n",
    "\n",
    "1. RStudio\n",
    "2. Jupyter Notebook\n",
    "3. Spyder"
   ]
  },
  {
   "cell_type": "markdown",
   "id": "1cc22a48",
   "metadata": {},
   "source": [
    "### Below are a few examples of evaluating arithmetic expressions in Python\n",
    "\n",
    "1. Addition\n",
    "2. Subtraction.\n",
    "3. Multiplication"
   ]
  },
  {
   "cell_type": "code",
   "execution_count": 2,
   "id": "c659d22f",
   "metadata": {},
   "outputs": [
    {
     "data": {
      "text/plain": [
       "17"
      ]
     },
     "execution_count": 2,
     "metadata": {},
     "output_type": "execute_result"
    }
   ],
   "source": [
    "# This a simple arithmetic expression to mutiply then add integers\n",
    "(3*4)+5"
   ]
  },
  {
   "cell_type": "code",
   "execution_count": 4,
   "id": "05d7b5ca",
   "metadata": {},
   "outputs": [
    {
     "name": "stdout",
     "output_type": "stream",
     "text": [
      "result =  3.3333333333333335 Hours\n"
     ]
    }
   ],
   "source": [
    "# This will convert 200 minutes to hours by diving by 60\n",
    "\n",
    "result = 200/60\n",
    "\n",
    "print('result = ', result, 'Hours')"
   ]
  },
  {
   "cell_type": "markdown",
   "id": "2a383e28",
   "metadata": {},
   "source": [
    "## Authoer\n",
    "Mahmoud Ibrahim."
   ]
  },
  {
   "cell_type": "code",
   "execution_count": null,
   "id": "b9b53de8",
   "metadata": {},
   "outputs": [],
   "source": []
  }
 ],
 "metadata": {
  "kernelspec": {
   "display_name": "Python 3 (ipykernel)",
   "language": "python",
   "name": "python3"
  },
  "language_info": {
   "codemirror_mode": {
    "name": "ipython",
    "version": 3
   },
   "file_extension": ".py",
   "mimetype": "text/x-python",
   "name": "python",
   "nbconvert_exporter": "python",
   "pygments_lexer": "ipython3",
   "version": "3.11.3"
  }
 },
 "nbformat": 4,
 "nbformat_minor": 5
}
